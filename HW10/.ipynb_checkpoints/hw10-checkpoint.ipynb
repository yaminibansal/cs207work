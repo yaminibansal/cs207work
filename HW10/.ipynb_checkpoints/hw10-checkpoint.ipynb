{
 "cells": [
  {
   "cell_type": "markdown",
   "metadata": {},
   "source": [
    "# HW10"
   ]
  },
  {
   "cell_type": "markdown",
   "metadata": {},
   "source": [
    "## Q1.\n",
    "\n",
    "Implement a Key-Value Search true, which allows no duplicates, but rather, updates the value associated with the key. This will change how `insert` works. Inherit from the augmented tree:\n",
    "\n",
    "`class KeyValueBinarySearchTree(AugmentedBinarySearchTree):`\n",
    "\n",
    "- The constructor should look like this: `def __init__(self, key_value_tuple, parent=None):`. Pick the key and value out separately in the constructor, and initialize the super with just the key, setting an instance variable `self.value` to the value.\n",
    "- insert wont duplicate any more, and `addLeftChild` and `addRightChild` will need to take the tuple in as they call the constructor for us.\n",
    "- implement a `__getitem__`, `__setitem__`, and `__delitem__` so that you can use code like:\n",
    "\n",
    "`btreekv['f']` for searching\n",
    "\n",
    "`btreekv['f']=10` for inserting"
   ]
  },
  {
   "cell_type": "code",
   "execution_count": 32,
   "metadata": {
    "collapsed": false
   },
   "outputs": [],
   "source": [
    "#your code here\n",
    "from BinarySearchTrees import AugmentedBinarySearchTree\n",
    "\n",
    "class KeyValueBinarySearchTree(AugmentedBinarySearchTree):\n",
    "    '''\n",
    "    This class creates a Key-Value search tree with no duplicates. There will be a unique node \n",
    "    for a key which will correspond to the last value inserted.\n",
    "    \n",
    "    Args:\n",
    "        key_value_tuple: (key, value) tuple for the root node of the tree\n",
    "        \n",
    "    Attributes:\n",
    "        data: The value associated with the key\n",
    "        value: The value associated with the current node\n",
    "        size: Number of nodes in the tree\n",
    "        parent: Parent of the given node\n",
    "        left: Left child of the current node\n",
    "        right: Right child of the current node \n",
    "\n",
    "    '''\n",
    "    def __init__(self, key_value_tuple, parent=None):\n",
    "        '''\n",
    "        This method initializes the Key-Value Binary Search tree. \n",
    "        '''\n",
    "        super().__init__(key_value_tuple[0], parent)\n",
    "        self.value = key_value_tuple[1]\n",
    "        self.size = 1\n",
    "        \n",
    "    def insert(self, key_value_tuple):\n",
    "        '''\n",
    "        Used for inserting a (key, value) tuple\n",
    "        '''\n",
    "        s = self.search(key_value_tuple[0])\n",
    "        if s is None:\n",
    "            if key_value_tuple[0] < self.data:\n",
    "                if self.hasLeftChild():\n",
    "                    self.left.insert(key_value_tuple)\n",
    "                else:\n",
    "                    self.addLeftChild(key_value_tuple)\n",
    "                    self._insert_hook()\n",
    "            else: #The equality case will not occur\n",
    "                if self.hasRightChild():\n",
    "                    self.right.insert(key_value_tuple)\n",
    "                else:\n",
    "                    self.addRightChild(key_value_tuple)\n",
    "                    self._insert_hook()\n",
    "        else:\n",
    "            s.value = key_value_tuple[1]\n",
    "            \n",
    "    def __len__(self):\n",
    "        '''\n",
    "        Returns the number of nodes of the tree\n",
    "        '''\n",
    "        return self.size\n",
    "    \n",
    "    def __getitem__(self, key):\n",
    "        '''\n",
    "        Returns the value corresponding to the key\n",
    "        \n",
    "        Args:\n",
    "            key: The key for which you want to query the tree\n",
    "        '''\n",
    "        return self.search(key).value\n",
    "        \n",
    "    def __setitem__(self, key, value):\n",
    "        '''\n",
    "        Sets the value corresponding to the key\n",
    "        \n",
    "        Args:\n",
    "            key: The key for which you want to change the value\n",
    "        '''\n",
    "        self.insert((key, value))\n",
    "    \n",
    "    def __delitem__(self, key):\n",
    "        '''\n",
    "        Deletes the node corresponding to the key\n",
    "        \n",
    "        Args:\n",
    "            key: The key for which you want to delete the node\n",
    "        '''\n",
    "        self.delete(key)"
   ]
  },
  {
   "cell_type": "markdown",
   "metadata": {},
   "source": [
    "It should all make sense...."
   ]
  },
  {
   "cell_type": "code",
   "execution_count": 44,
   "metadata": {
    "collapsed": true
   },
   "outputs": [],
   "source": [
    "btreekv = KeyValueBinarySearchTree(('f', 3))"
   ]
  },
  {
   "cell_type": "code",
   "execution_count": 45,
   "metadata": {
    "collapsed": true
   },
   "outputs": [],
   "source": [
    "kvdata=zip(list('jeihrifhkdfks'), range(13))"
   ]
  },
  {
   "cell_type": "code",
   "execution_count": 46,
   "metadata": {
    "collapsed": false
   },
   "outputs": [],
   "source": [
    "for k,v in kvdata:\n",
    "    btreekv[k]=v"
   ]
  },
  {
   "cell_type": "code",
   "execution_count": 47,
   "metadata": {
    "collapsed": false
   },
   "outputs": [
    {
     "data": {
      "text/plain": [
       "[('d', 9),\n",
       " ('e', 1),\n",
       " ('f', 10),\n",
       " ('h', 7),\n",
       " ('i', 5),\n",
       " ('j', 0),\n",
       " ('k', 11),\n",
       " ('r', 4),\n",
       " ('s', 12)]"
      ]
     },
     "execution_count": 47,
     "metadata": {},
     "output_type": "execute_result"
    }
   ],
   "source": [
    "[(e.data, e.value) for e in list(btreekv)]"
   ]
  },
  {
   "cell_type": "code",
   "execution_count": 48,
   "metadata": {
    "collapsed": false
   },
   "outputs": [
    {
     "data": {
      "text/plain": [
       "10"
      ]
     },
     "execution_count": 48,
     "metadata": {},
     "output_type": "execute_result"
    }
   ],
   "source": [
    "btreekv['f']"
   ]
  },
  {
   "cell_type": "code",
   "execution_count": 49,
   "metadata": {
    "collapsed": false
   },
   "outputs": [
    {
     "data": {
      "text/plain": [
       "[('a', 90),\n",
       " ('d', 9),\n",
       " ('e', 1),\n",
       " ('h', 10),\n",
       " ('i', 5),\n",
       " ('j', 0),\n",
       " ('k', 11),\n",
       " ('r', 4),\n",
       " ('s', 12)]"
      ]
     },
     "execution_count": 49,
     "metadata": {},
     "output_type": "execute_result"
    }
   ],
   "source": [
    "del btreekv['f']\n",
    "btreekv['a'] = 90\n",
    "[(e.data, e.value) for e in list(btreekv)]"
   ]
  }
 ],
 "metadata": {
  "anaconda-cloud": {},
  "kernelspec": {
   "display_name": "Python [default]",
   "language": "python",
   "name": "python3"
  },
  "language_info": {
   "codemirror_mode": {
    "name": "ipython",
    "version": 3
   },
   "file_extension": ".py",
   "mimetype": "text/x-python",
   "name": "python",
   "nbconvert_exporter": "python",
   "pygments_lexer": "ipython3",
   "version": "3.5.2"
  }
 },
 "nbformat": 4,
 "nbformat_minor": 0
}
